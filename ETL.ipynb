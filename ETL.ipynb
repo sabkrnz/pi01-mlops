{
 "cells": [
  {
   "cell_type": "code",
   "execution_count": 1,
   "metadata": {},
   "outputs": [],
   "source": [
    "import pandas as pd\n",
    "import ast\n",
    "import json"
   ]
  },
  {
   "cell_type": "code",
   "execution_count": 2,
   "metadata": {},
   "outputs": [
    {
     "name": "stderr",
     "output_type": "stream",
     "text": [
      "C:\\Users\\sabkr\\AppData\\Local\\Temp\\ipykernel_14936\\612885814.py:1: DtypeWarning: Columns (10) have mixed types. Specify dtype option on import or set low_memory=False.\n",
      "  movies = pd.read_csv('./movies_dataset.csv')\n"
     ]
    }
   ],
   "source": [
    "movies = pd.read_csv('./movies_dataset.csv')\n",
    "movies_credits = pd.read_csv('./credits.csv')"
   ]
  },
  {
   "cell_type": "code",
   "execution_count": 3,
   "metadata": {},
   "outputs": [],
   "source": [
    "def load_json(x):\n",
    "    if isinstance(x, str):  # Asegurarse de que x sea una cadena\n",
    "        try:\n",
    "            return json.loads(x.replace(\"'\", '\"'))\n",
    "        except json.JSONDecodeError:\n",
    "            return {}\n",
    "    return {}"
   ]
  },
  {
   "cell_type": "code",
   "execution_count": 4,
   "metadata": {},
   "outputs": [],
   "source": [
    "movies['belongs_to_collection'] = movies['belongs_to_collection'].apply(load_json)"
   ]
  },
  {
   "cell_type": "code",
   "execution_count": 5,
   "metadata": {},
   "outputs": [],
   "source": [
    "def extract_collection_info(x): \n",
    "    if isinstance(x, dict) and 'id' in x and 'name' in x:\n",
    "        return pd.Series({\n",
    "            'collection_id': x['id'],\n",
    "            'collection_name': x['name'],\n",
    "            'collection_poster_path': x.get('poster_path')\n",
    "        })\n",
    "    else:\n",
    "        return pd.Series({\n",
    "            'collection_id': None,\n",
    "            'collection_name': None,\n",
    "            'collection_poster_path': None\n",
    "        })"
   ]
  },
  {
   "cell_type": "code",
   "execution_count": 6,
   "metadata": {},
   "outputs": [],
   "source": [
    "collection_info = movies['belongs_to_collection'].apply(extract_collection_info)\n",
    "movies = pd.concat([movies, collection_info], axis=1) "
   ]
  },
  {
   "cell_type": "code",
   "execution_count": 7,
   "metadata": {},
   "outputs": [],
   "source": [
    "movies['genres'] = movies['genres'].apply(load_json)\n",
    "genres_exploded = movies['genres'].explode()\n",
    "genres_exploded = genres_exploded.dropna().apply(pd.Series)\n",
    "genres_exploded = genres_exploded.dropna()\n",
    "genres_normalized = pd.json_normalize(genres_exploded)"
   ]
  },
  {
   "cell_type": "code",
   "execution_count": 9,
   "metadata": {},
   "outputs": [],
   "source": [
    "def load_json_list(x): \n",
    "    if isinstance(x, str):\n",
    "        try:\n",
    "            return json.loads(x.replace(\"'\", \"\\\"\"))\n",
    "        except (json.JSONDecodeError, TypeError):\n",
    "            return []\n",
    "    elif isinstance(x, (dict, list)):\n",
    "        return x\n",
    "    else:\n",
    "        return []"
   ]
  },
  {
   "cell_type": "code",
   "execution_count": 10,
   "metadata": {},
   "outputs": [],
   "source": [
    "movies['production_companies'] = movies['production_companies'].apply(load_json_list)"
   ]
  },
  {
   "cell_type": "code",
   "execution_count": 11,
   "metadata": {},
   "outputs": [],
   "source": [
    "def get_company_names(companies): \n",
    "    if isinstance(companies, list):\n",
    "        return ', '.join([company.get('name', '') for company in companies if isinstance(company, dict)])\n",
    "    return None"
   ]
  },
  {
   "cell_type": "code",
   "execution_count": 12,
   "metadata": {},
   "outputs": [],
   "source": [
    "movies['production_companies_names'] = movies['production_companies'].apply(get_company_names)"
   ]
  },
  {
   "cell_type": "code",
   "execution_count": 13,
   "metadata": {},
   "outputs": [],
   "source": [
    "def get_country_names(countries):\n",
    "    if isinstance(countries, list):\n",
    "        return ', '.join([country.get('name', '') for country in countries if isinstance(country, dict)])\n",
    "    return None"
   ]
  },
  {
   "cell_type": "code",
   "execution_count": 14,
   "metadata": {},
   "outputs": [],
   "source": [
    "movies['production_countries_names'] = movies['production_countries'].apply(get_country_names) "
   ]
  },
  {
   "cell_type": "code",
   "execution_count": 15,
   "metadata": {},
   "outputs": [],
   "source": [
    "movies['revenue'] = movies['revenue'].fillna(0)\n",
    "movies['budget'] = movies['budget'].fillna(0)"
   ]
  },
  {
   "cell_type": "code",
   "execution_count": 16,
   "metadata": {},
   "outputs": [],
   "source": [
    "movies = movies.dropna(subset=['release_date'])"
   ]
  },
  {
   "cell_type": "code",
   "execution_count": 17,
   "metadata": {},
   "outputs": [],
   "source": [
    "movies['release_year'] = pd.to_datetime(movies['release_date'], errors='coerce').dt.year "
   ]
  },
  {
   "cell_type": "code",
   "execution_count": 18,
   "metadata": {},
   "outputs": [],
   "source": [
    "movies['release_year'] = movies['release_year'].fillna(0).astype(int)"
   ]
  },
  {
   "cell_type": "code",
   "execution_count": 19,
   "metadata": {},
   "outputs": [],
   "source": [
    "def convert_to_float(value):\n",
    "    try:\n",
    "        return float(value)\n",
    "    except (ValueError, TypeError):\n",
    "        return 0.0"
   ]
  },
  {
   "cell_type": "code",
   "execution_count": 20,
   "metadata": {},
   "outputs": [],
   "source": [
    "movies['revenue'] = movies['revenue'].apply(convert_to_float)\n",
    "movies['budget'] = movies['budget'].apply(convert_to_float) "
   ]
  },
  {
   "cell_type": "code",
   "execution_count": 21,
   "metadata": {},
   "outputs": [],
   "source": [
    "movies['return'] = movies.apply(lambda row: row['revenue'] / row['budget'] if row['budget'] != 0 else 0, axis=1)"
   ]
  },
  {
   "cell_type": "code",
   "execution_count": 22,
   "metadata": {},
   "outputs": [],
   "source": [
    "columnnas_a_eliminar = ['video', 'imdb_id', 'adult', 'original_title', 'poster_path', 'homepage'] #Creamos una lista para las columnas a eliminar\n",
    "movies = movies.drop(columnnas_a_eliminar, axis=1)"
   ]
  },
  {
   "cell_type": "code",
   "execution_count": 23,
   "metadata": {},
   "outputs": [],
   "source": [
    "movies.to_csv('movies_dataset.csv', index=False)"
   ]
  },
  {
   "cell_type": "code",
   "execution_count": 24,
   "metadata": {},
   "outputs": [],
   "source": [
    "movies_credits['cast'] = movies_credits['cast'].apply(lambda x: eval(x) if isinstance(x, str) else x)"
   ]
  },
  {
   "cell_type": "code",
   "execution_count": 25,
   "metadata": {},
   "outputs": [],
   "source": [
    "movies_credits['cast'] = movies_credits['cast'].apply(lambda x: [item for item in x if isinstance(item, dict) and item])\n",
    "cast_expanded = movies_credits['cast'].explode()"
   ]
  },
  {
   "cell_type": "code",
   "execution_count": 26,
   "metadata": {},
   "outputs": [],
   "source": [
    "cast_df = pd.json_normalize(cast_expanded)"
   ]
  },
  {
   "cell_type": "code",
   "execution_count": 27,
   "metadata": {},
   "outputs": [],
   "source": [
    "movies_credits = movies_credits.merge(cast_df, left_index=True, right_index=True, suffixes=('', '_cast'))"
   ]
  },
  {
   "cell_type": "code",
   "execution_count": 28,
   "metadata": {},
   "outputs": [],
   "source": [
    "movies_credits['crew'] = movies_credits['crew'].apply(lambda x: eval(x) if isinstance(x, str) else x)"
   ]
  },
  {
   "cell_type": "code",
   "execution_count": 29,
   "metadata": {},
   "outputs": [],
   "source": [
    "crew_expanded = movies_credits['crew'].explode()\n",
    "crew_df = pd.json_normalize(crew_expanded)"
   ]
  },
  {
   "cell_type": "code",
   "execution_count": 30,
   "metadata": {},
   "outputs": [],
   "source": [
    "movies_credits = movies_credits.merge(crew_df, left_index=True, right_index=True, suffixes=('', '_crew'))"
   ]
  },
  {
   "cell_type": "code",
   "execution_count": 31,
   "metadata": {},
   "outputs": [],
   "source": [
    "movies_credits.to_csv('credits.csv', index=False)"
   ]
  }
 ],
 "metadata": {
  "kernelspec": {
   "display_name": "Python 3",
   "language": "python",
   "name": "python3"
  },
  "language_info": {
   "codemirror_mode": {
    "name": "ipython",
    "version": 3
   },
   "file_extension": ".py",
   "mimetype": "text/x-python",
   "name": "python",
   "nbconvert_exporter": "python",
   "pygments_lexer": "ipython3",
   "version": "3.12.1"
  }
 },
 "nbformat": 4,
 "nbformat_minor": 2
}
